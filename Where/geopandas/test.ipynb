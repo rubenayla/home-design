{
 "cells": [
  {
   "cell_type": "code",
   "execution_count": 8,
   "metadata": {},
   "outputs": [
    {
     "name": "stdout",
     "output_type": "stream",
     "text": [
      "Requirement already satisfied: geopandas in c:\\users\\ruben\\appdata\\local\\programs\\python\\python310\\lib\\site-packages (0.13.2)\n",
      "Requirement already satisfied: fiona>=1.8.19 in c:\\users\\ruben\\appdata\\local\\programs\\python\\python310\\lib\\site-packages (from geopandas) (1.9.4.post1)\n",
      "Requirement already satisfied: packaging in c:\\users\\ruben\\appdata\\local\\programs\\python\\python310\\lib\\site-packages (from geopandas) (22.0)\n",
      "Requirement already satisfied: pandas>=1.1.0 in c:\\users\\ruben\\appdata\\local\\programs\\python\\python310\\lib\\site-packages (from geopandas) (1.5.3)\n",
      "Requirement already satisfied: pyproj>=3.0.1 in c:\\users\\ruben\\appdata\\local\\programs\\python\\python310\\lib\\site-packages (from geopandas) (3.6.0)\n",
      "Requirement already satisfied: shapely>=1.7.1 in c:\\users\\ruben\\appdata\\local\\programs\\python\\python310\\lib\\site-packages (from geopandas) (2.0.1)\n",
      "Requirement already satisfied: attrs>=19.2.0 in c:\\users\\ruben\\appdata\\local\\programs\\python\\python310\\lib\\site-packages (from fiona>=1.8.19->geopandas) (21.4.0)\n",
      "Requirement already satisfied: certifi in c:\\users\\ruben\\appdata\\local\\programs\\python\\python310\\lib\\site-packages (from fiona>=1.8.19->geopandas) (2021.10.8)\n",
      "Requirement already satisfied: click~=8.0 in c:\\users\\ruben\\appdata\\local\\programs\\python\\python310\\lib\\site-packages (from fiona>=1.8.19->geopandas) (8.1.3)\n",
      "Requirement already satisfied: click-plugins>=1.0 in c:\\users\\ruben\\appdata\\local\\programs\\python\\python310\\lib\\site-packages (from fiona>=1.8.19->geopandas) (1.1.1)\n",
      "Requirement already satisfied: cligj>=0.5 in c:\\users\\ruben\\appdata\\local\\programs\\python\\python310\\lib\\site-packages (from fiona>=1.8.19->geopandas) (0.7.2)\n",
      "Requirement already satisfied: six in c:\\users\\ruben\\appdata\\local\\programs\\python\\python310\\lib\\site-packages (from fiona>=1.8.19->geopandas) (1.16.0)\n",
      "Requirement already satisfied: python-dateutil>=2.8.1 in c:\\users\\ruben\\appdata\\local\\programs\\python\\python310\\lib\\site-packages (from pandas>=1.1.0->geopandas) (2.8.2)\n",
      "Requirement already satisfied: pytz>=2020.1 in c:\\users\\ruben\\appdata\\local\\programs\\python\\python310\\lib\\site-packages (from pandas>=1.1.0->geopandas) (2023.3)\n",
      "Requirement already satisfied: numpy>=1.21.0 in c:\\users\\ruben\\appdata\\local\\programs\\python\\python310\\lib\\site-packages (from pandas>=1.1.0->geopandas) (1.22.4)\n",
      "Requirement already satisfied: colorama in c:\\users\\ruben\\appdata\\local\\programs\\python\\python310\\lib\\site-packages (from click~=8.0->fiona>=1.8.19->geopandas) (0.4.6)\n",
      "c:\\Users\\ruben\\OneDrive - Universidad Rey Juan Carlos\\projects\\home\\Home\\Where\\geopandas\n"
     ]
    },
    {
     "name": "stderr",
     "output_type": "stream",
     "text": [
      "\n",
      "[notice] A new release of pip is available: 23.1.2 -> 23.2.1\n",
      "[notice] To update, run: python.exe -m pip install --upgrade pip\n"
     ]
    }
   ],
   "source": [
    "!pip install geopandas\n",
    "\n",
    "import geopandas as gpd\n",
    "# https://youtu.be/G3UomcjQXkk?si=yk2y0qFW9-BZhrq0\n",
    "# https://github.com/iamtekson/geospatial-data-analysis-python/tree/master/data/shp\n",
    "# To visualize: gis or mapshaper.org\n",
    "import os\n",
    "print(os.getcwd())"
   ]
  },
  {
   "cell_type": "code",
   "execution_count": 16,
   "metadata": {},
   "outputs": [],
   "source": [
    "in_geojson = r'./data/municipality.json'\n",
    "in_shp = r'./data/municipality.shp'"
   ]
  },
  {
   "cell_type": "code",
   "execution_count": 18,
   "metadata": {},
   "outputs": [
    {
     "data": {
      "text/html": [
       "<div>\n",
       "<style scoped>\n",
       "    .dataframe tbody tr th:only-of-type {\n",
       "        vertical-align: middle;\n",
       "    }\n",
       "\n",
       "    .dataframe tbody tr th {\n",
       "        vertical-align: top;\n",
       "    }\n",
       "\n",
       "    .dataframe thead th {\n",
       "        text-align: right;\n",
       "    }\n",
       "</style>\n",
       "<table border=\"1\" class=\"dataframe\">\n",
       "  <thead>\n",
       "    <tr style=\"text-align: right;\">\n",
       "      <th></th>\n",
       "      <th>OBJECTID</th>\n",
       "      <th>DISTRICT</th>\n",
       "      <th>GaPa_NaPa</th>\n",
       "      <th>Type_GN</th>\n",
       "      <th>Province</th>\n",
       "      <th>SCode</th>\n",
       "      <th>DCode</th>\n",
       "      <th>SDD</th>\n",
       "      <th>MCode</th>\n",
       "      <th>length</th>\n",
       "      <th>area</th>\n",
       "      <th>SDDMM</th>\n",
       "      <th>Nepali</th>\n",
       "      <th>Shape_Leng</th>\n",
       "      <th>Shape_Area</th>\n",
       "      <th>geometry</th>\n",
       "    </tr>\n",
       "  </thead>\n",
       "  <tbody>\n",
       "    <tr>\n",
       "      <th>0</th>\n",
       "      <td>1</td>\n",
       "      <td>TAPLEJUNG</td>\n",
       "      <td>Aathrai Tribeni</td>\n",
       "      <td>Gaunpalika</td>\n",
       "      <td>1</td>\n",
       "      <td>1</td>\n",
       "      <td>1</td>\n",
       "      <td>101</td>\n",
       "      <td>1</td>\n",
       "      <td>44.672747</td>\n",
       "      <td>88.825948</td>\n",
       "      <td>10101</td>\n",
       "      <td>आठराई त्रिवेणी</td>\n",
       "      <td>0.430900</td>\n",
       "      <td>0.008075</td>\n",
       "      <td>POLYGON ((87.62191 27.36245, 87.62137 27.36272...</td>\n",
       "    </tr>\n",
       "    <tr>\n",
       "      <th>1</th>\n",
       "      <td>2</td>\n",
       "      <td>TAPLEJUNG</td>\n",
       "      <td>Maiwakhola</td>\n",
       "      <td>Gaunpalika</td>\n",
       "      <td>1</td>\n",
       "      <td>1</td>\n",
       "      <td>1</td>\n",
       "      <td>101</td>\n",
       "      <td>2</td>\n",
       "      <td>61.067429</td>\n",
       "      <td>137.848122</td>\n",
       "      <td>10102</td>\n",
       "      <td>मैवाखोला</td>\n",
       "      <td>0.577692</td>\n",
       "      <td>0.012540</td>\n",
       "      <td>POLYGON ((87.60599 27.37125, 87.60364 27.37219...</td>\n",
       "    </tr>\n",
       "    <tr>\n",
       "      <th>2</th>\n",
       "      <td>3</td>\n",
       "      <td>TAPLEJUNG</td>\n",
       "      <td>Meringden</td>\n",
       "      <td>Gaunpalika</td>\n",
       "      <td>1</td>\n",
       "      <td>1</td>\n",
       "      <td>1</td>\n",
       "      <td>101</td>\n",
       "      <td>3</td>\n",
       "      <td>75.987469</td>\n",
       "      <td>210.313039</td>\n",
       "      <td>10103</td>\n",
       "      <td>मेरिङदेन</td>\n",
       "      <td>0.718499</td>\n",
       "      <td>0.019148</td>\n",
       "      <td>POLYGON ((87.62728 27.37689, 87.62691 27.37773...</td>\n",
       "    </tr>\n",
       "  </tbody>\n",
       "</table>\n",
       "</div>"
      ],
      "text/plain": [
       "   OBJECTID   DISTRICT        GaPa_NaPa     Type_GN Province  SCode  DCode  \\\n",
       "0         1  TAPLEJUNG  Aathrai Tribeni  Gaunpalika        1      1      1   \n",
       "1         2  TAPLEJUNG       Maiwakhola  Gaunpalika        1      1      1   \n",
       "2         3  TAPLEJUNG        Meringden  Gaunpalika        1      1      1   \n",
       "\n",
       "   SDD  MCode     length        area  SDDMM          Nepali  Shape_Leng  \\\n",
       "0  101      1  44.672747   88.825948  10101  आठराई त्रिवेणी    0.430900   \n",
       "1  101      2  61.067429  137.848122  10102        मैवाखोला    0.577692   \n",
       "2  101      3  75.987469  210.313039  10103        मेरिङदेन    0.718499   \n",
       "\n",
       "   Shape_Area                                           geometry  \n",
       "0    0.008075  POLYGON ((87.62191 27.36245, 87.62137 27.36272...  \n",
       "1    0.012540  POLYGON ((87.60599 27.37125, 87.60364 27.37219...  \n",
       "2    0.019148  POLYGON ((87.62728 27.37689, 87.62691 27.37773...  "
      ]
     },
     "execution_count": 18,
     "metadata": {},
     "output_type": "execute_result"
    }
   ],
   "source": [
    "geo_df = gpd.read_file(in_geojson)# Dataframe\n",
    "geo_df.head(3)"
   ]
  },
  {
   "cell_type": "code",
   "execution_count": null,
   "metadata": {},
   "outputs": [],
   "source": [
    "gdf = gpd.read_file(in_shp)"
   ]
  }
 ],
 "metadata": {
  "kernelspec": {
   "display_name": "Python 3",
   "language": "python",
   "name": "python3"
  },
  "language_info": {
   "codemirror_mode": {
    "name": "ipython",
    "version": 3
   },
   "file_extension": ".py",
   "mimetype": "text/x-python",
   "name": "python",
   "nbconvert_exporter": "python",
   "pygments_lexer": "ipython3",
   "version": "3.10.6"
  },
  "orig_nbformat": 4
 },
 "nbformat": 4,
 "nbformat_minor": 2
}
